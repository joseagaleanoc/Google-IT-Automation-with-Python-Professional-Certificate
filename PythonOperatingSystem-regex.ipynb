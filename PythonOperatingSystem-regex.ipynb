{
 "cells": [
  {
   "cell_type": "code",
   "execution_count": 2,
   "metadata": {},
   "outputs": [],
   "source": [
    "import re\n",
    "\n",
    "str = r\"The end of the highway is in 10 miles. What are we going to do? Also, how many kilometers is that? Let's go to the highest peak of the mountain to see which route to take. It's high up here!\""
   ]
  },
  {
   "attachments": {},
   "cell_type": "markdown",
   "metadata": {},
   "source": [
    "Find the first and all of the occurences of a word that have a letter before an \"e\""
   ]
  },
  {
   "cell_type": "code",
   "execution_count": 2,
   "metadata": {},
   "outputs": [
    {
     "name": "stdout",
     "output_type": "stream",
     "text": [
      "<re.Match object; span=(1, 3), match='he'>\n",
      "['he', 'he', 'le', 're', 'we', 'me', 'te', 'Le', 'he', 'he', 'pe', 'he', 'se', 'te', 'ke', 'he', 're']\n"
     ]
    }
   ],
   "source": [
    "regex = \"[A-z]e\"\n",
    "print(re.search(regex, str))\n",
    "print(re.findall(regex, str))"
   ]
  },
  {
   "attachments": {},
   "cell_type": "markdown",
   "metadata": {},
   "source": [
    "Find the first and all of the occurences of all none alphabetic characters"
   ]
  },
  {
   "cell_type": "code",
   "execution_count": 3,
   "metadata": {},
   "outputs": [
    {
     "name": "stdout",
     "output_type": "stream",
     "text": [
      "<re.Match object; span=(3, 4), match=' '>\n",
      "[' ', ' ', ' ', ' ', ' ', ' ', ' ', '1', '0', ' ', '.', ' ', ' ', ' ', ' ', ' ', ' ', '?', ' ', ',', ' ', ' ', ' ', ' ', ' ', '?', ' ', \"'\", ' ', ' ', ' ', ' ', ' ', ' ', ' ', ' ', ' ', ' ', ' ', ' ', ' ', ' ', '.', ' ', \"'\", ' ', ' ', ' ', '!']\n"
     ]
    }
   ],
   "source": [
    "regex = \"[^A-z]\"\n",
    "print(re.search(regex, str))\n",
    "print(re.findall(regex, str))"
   ]
  },
  {
   "attachments": {},
   "cell_type": "markdown",
   "metadata": {},
   "source": [
    "Check if a string has either word \"miles\" or \"kilometers\""
   ]
  },
  {
   "cell_type": "code",
   "execution_count": 4,
   "metadata": {},
   "outputs": [
    {
     "name": "stdout",
     "output_type": "stream",
     "text": [
      "<re.Match object; span=(32, 37), match='miles'>\n",
      "['miles', 'kilometers']\n"
     ]
    }
   ],
   "source": [
    "regex = \"miles|kilometers\"\n",
    "print(re.search(regex, str))\n",
    "print(re.findall(regex, str))"
   ]
  },
  {
   "attachments": {},
   "cell_type": "markdown",
   "metadata": {},
   "source": [
    "Check if a word starts with \"hi\" and ends with \"t\""
   ]
  },
  {
   "cell_type": "code",
   "execution_count": 5,
   "metadata": {},
   "outputs": [
    {
     "name": "stdout",
     "output_type": "stream",
     "text": [
      "<re.Match object; span=(115, 122), match='highest'>\n",
      "['highest']\n"
     ]
    }
   ],
   "source": [
    "regex = \"hi[a-z]*t\"\n",
    "print(re.search(regex, str))\n",
    "print(re.findall(regex, str))"
   ]
  },
  {
   "attachments": {},
   "cell_type": "markdown",
   "metadata": {},
   "source": [
    "Find if a word contains \"each\" with or without a leading character"
   ]
  },
  {
   "cell_type": "code",
   "execution_count": 6,
   "metadata": {},
   "outputs": [
    {
     "name": "stdout",
     "output_type": "stream",
     "text": [
      "<re.Match object; span=(15, 19), match='high'>\n",
      "['high', 'high', 'high']\n"
     ]
    }
   ],
   "source": [
    "regex = \"hight?\"\n",
    "print(re.search(regex, str))\n",
    "print(re.findall(regex, str))"
   ]
  },
  {
   "attachments": {},
   "cell_type": "markdown",
   "metadata": {},
   "source": [
    "Match a variable name"
   ]
  },
  {
   "cell_type": "code",
   "execution_count": 7,
   "metadata": {},
   "outputs": [
    {
     "name": "stdout",
     "output_type": "stream",
     "text": [
      "<re.Match object; span=(0, 13), match='this_is_a_var'>\n",
      "['this_is_a_var']\n"
     ]
    }
   ],
   "source": [
    "variable = 'this_is_a_var'\n",
    "regex = r\"^[A-Za-z_][A-za-z0-9_]*$\"\n",
    "print(re.search(regex, variable))\n",
    "print(re.findall(regex, variable))"
   ]
  },
  {
   "attachments": {},
   "cell_type": "markdown",
   "metadata": {},
   "source": [
    "Match sentences structed correctly"
   ]
  },
  {
   "cell_type": "code",
   "execution_count": 3,
   "metadata": {},
   "outputs": [
    {
     "name": "stdout",
     "output_type": "stream",
     "text": [
      "True\n",
      "False\n",
      "False\n",
      "False\n",
      "True\n"
     ]
    }
   ],
   "source": [
    "def check_sentence(text):\n",
    "  result = re.search(r\"^[A-Z][a-z ].*(\\.|\\?)$\", text)\n",
    "  return result != None\n",
    "\n",
    "print(check_sentence(\"Is this is a sentence?\")) # True\n",
    "print(check_sentence(\"is this is a sentence?\")) # False\n",
    "print(check_sentence(\"Hello\")) # False\n",
    "print(check_sentence(\"1-2-3-GO!\")) # False\n",
    "print(check_sentence(\"A star is born.\")) # True"
   ]
  },
  {
   "attachments": {},
   "cell_type": "markdown",
   "metadata": {},
   "source": [
    "Check web address"
   ]
  },
  {
   "cell_type": "code",
   "execution_count": 4,
   "metadata": {},
   "outputs": [
    {
     "name": "stdout",
     "output_type": "stream",
     "text": [
      "True\n",
      "False\n",
      "True\n",
      "False\n",
      "True\n"
     ]
    }
   ],
   "source": [
    "import re\n",
    "def check_web_address(text):\n",
    "  pattern = r\"^[A-Za-z0-9_].*\\..[A-z]+$\"\n",
    "  result = re.search(pattern, text)\n",
    "  return result != None\n",
    "\n",
    "print(check_web_address(\"gmail.com\")) # True\n",
    "print(check_web_address(\"www@google\")) # False\n",
    "print(check_web_address(\"www.Coursera.org\")) # True\n",
    "print(check_web_address(\"web-address.com/homepage\")) # False\n",
    "print(check_web_address(\"My_Favorite-Blog.US\")) # True"
   ]
  },
  {
   "cell_type": "code",
   "execution_count": 8,
   "metadata": {},
   "outputs": [
    {
     "name": "stdout",
     "output_type": "stream",
     "text": [
      "<re.Match object; span=(0, 15), match='Galeano, Jose A'>\n",
      "<re.Match object; span=(0, 16), match='Galeano, Jose A.'>\n",
      "[('Galeano', 'Jose')]\n",
      "[]\n"
     ]
    }
   ],
   "source": [
    "regex = r\"^([\\w \\.-]*), ([\\w \\.-]*)$\"\n",
    "print(re.search(regex, \"Galeano, Jose A\"))\n",
    "print(re.search(regex, \"Galeano, Jose A.\"))\n",
    "print(re.findall(regex, \"Galeano, Jose\"))\n",
    "print(re.findall(regex, \"Galeano Jose\"))"
   ]
  },
  {
   "cell_type": "code",
   "execution_count": 9,
   "metadata": {},
   "outputs": [
    {
     "name": "stdout",
     "output_type": "stream",
     "text": [
      "12345 (ERROR)\n",
      "None\n",
      "None\n",
      "67890 (RUNNING)\n"
     ]
    }
   ],
   "source": [
    "import re\n",
    "def extract_pid(log_line):\n",
    "    regex = r\"\\[(\\d+)\\]:\\s(\\w+)\"\n",
    "    result = re.search(regex, log_line)\n",
    "    if result is None:\n",
    "        return None\n",
    "    return \"{} ({})\".format(result[1], result[2])\n",
    "\n",
    "print(extract_pid(\"July 31 07:51:48 mycomputer bad_process[12345]: ERROR Performing package upgrade\")) # 12345 (ERROR)\n",
    "print(extract_pid(\"99 elephants in a [cage]\")) # None\n",
    "print(extract_pid(\"A string that also has numbers [34567] but no uppercase message\")) # None\n",
    "print(extract_pid(\"July 31 08:08:08 mycomputer new_process[67890]: RUNNING Performing backup\")) # 67890 (RUNNING)"
   ]
  },
  {
   "cell_type": "code",
   "execution_count": 10,
   "metadata": {},
   "outputs": [
    {
     "data": {
      "text/plain": [
       "['One sentence. Ano', 'r one? And ', ' l', 'st one!']"
      ]
     },
     "execution_count": 10,
     "metadata": {},
     "output_type": "execute_result"
    }
   ],
   "source": [
    "re.split(r\"the|a\", \"One sentence. Another one? And the last one!\")"
   ]
  },
  {
   "cell_type": "code",
   "execution_count": 11,
   "metadata": {},
   "outputs": [
    {
     "name": "stdout",
     "output_type": "stream",
     "text": [
      "['beau']\n",
      "['viou', 'quee', 'geou', 'ciou']\n",
      "['tiou', 'quie', 'ciou']\n",
      "['queu']\n",
      "[]\n"
     ]
    }
   ],
   "source": [
    "import re\n",
    "def multi_vowel_words(text):\n",
    "  pattern = r\"[\\w][aeiou]{3}+\"\n",
    "  result = re.findall(pattern, text)\n",
    "  return result\n",
    "\n",
    "print(multi_vowel_words(\"Life is beautiful\")) \n",
    "# ['beautiful']\n",
    "\n",
    "print(multi_vowel_words(\"Obviously, the queen is courageous and gracious.\")) \n",
    "# ['Obviously', 'queen', 'courageous', 'gracious']\n",
    "\n",
    "print(multi_vowel_words(\"The rambunctious children had to sit quietly and await their delicious dinner.\")) \n",
    "# ['rambunctious', 'quietly', 'delicious']\n",
    "\n",
    "print(multi_vowel_words(\"The order of a data queue is First In First Out (FIFO)\")) \n",
    "# ['queue']\n",
    "\n",
    "print(multi_vowel_words(\"Hello world!\")) \n",
    "# []"
   ]
  },
  {
   "cell_type": "code",
   "execution_count": null,
   "metadata": {},
   "outputs": [],
   "source": []
  }
 ],
 "metadata": {
  "kernelspec": {
   "display_name": "Python 3",
   "language": "python",
   "name": "python3"
  },
  "language_info": {
   "codemirror_mode": {
    "name": "ipython",
    "version": 3
   },
   "file_extension": ".py",
   "mimetype": "text/x-python",
   "name": "python",
   "nbconvert_exporter": "python",
   "pygments_lexer": "ipython3",
   "version": "3.11.3"
  },
  "orig_nbformat": 4
 },
 "nbformat": 4,
 "nbformat_minor": 2
}
