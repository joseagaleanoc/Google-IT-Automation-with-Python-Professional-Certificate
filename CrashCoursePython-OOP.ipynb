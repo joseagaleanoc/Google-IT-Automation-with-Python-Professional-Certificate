{
  "cells": [
    {
      "cell_type": "code",
      "execution_count": 1,
      "metadata": {
        "trusted": true
      },
      "outputs": [],
      "source": [
        "import random"
      ]
    },
    {
      "cell_type": "code",
      "execution_count": 2,
      "metadata": {
        "trusted": true
      },
      "outputs": [],
      "source": [
        "class Server:\n",
        "    def __init__(self):\n",
        "        \"\"\"Creates a new server instance, with no active connections.\"\"\"\n",
        "        self.connections = {}\n",
        "\n",
        "    def add_connection(self, connection_id):\n",
        "        \"\"\"Adds a new connection to this server.\"\"\"\n",
        "        connection_load = random.random()*10+1\n",
        "        self.connections[connection_id] = connection_load\n",
        "        # Add the connection to the dictionary with the calculated load\n",
        "\n",
        "    def close_connection(self, connection_id):\n",
        "        \"\"\"Closes a connection on this server.\"\"\"\n",
        "        # Remove the connection from the dictionary\n",
        "        del self.connections[connection_id]\n",
        "\n",
        "    def load(self):\n",
        "        \"\"\"Calculates the current load for all connections.\"\"\"\n",
        "        total = 0\n",
        "        # Add up the load for each of the connections\n",
        "        for connection in self.connections.values():\n",
        "            total += connection\n",
        "        return total\n",
        "\n",
        "    def __str__(self):\n",
        "        \"\"\"Returns a string with the current load of the server\"\"\"\n",
        "        return \"{:.2f}%\".format(self.load())"
      ]
    },
    {
      "cell_type": "code",
      "execution_count": 3,
      "metadata": {
        "trusted": true
      },
      "outputs": [],
      "source": [
        "server = Server()\n",
        "server.add_connection(\"192.168.1.1\")\n",
        "server.add_connection(\"192.168.1.2\")\n",
        "server.add_connection(\"192.168.1.3\")"
      ]
    },
    {
      "cell_type": "code",
      "execution_count": 4,
      "metadata": {
        "trusted": true
      },
      "outputs": [
        {
          "data": {
            "text/plain": [
              "15.851139309461997"
            ]
          },
          "execution_count": 4,
          "metadata": {},
          "output_type": "execute_result"
        }
      ],
      "source": [
        "server.load()"
      ]
    },
    {
      "cell_type": "code",
      "execution_count": 5,
      "metadata": {
        "trusted": true
      },
      "outputs": [
        {
          "data": {
            "text/plain": [
              "<__main__.Server at 0x10e15af90>"
            ]
          },
          "execution_count": 5,
          "metadata": {},
          "output_type": "execute_result"
        }
      ],
      "source": [
        "server"
      ]
    },
    {
      "cell_type": "code",
      "execution_count": 6,
      "metadata": {
        "trusted": true
      },
      "outputs": [],
      "source": [
        "server.close_connection(\"192.168.1.1\")\n",
        "server.close_connection(\"192.168.1.2\")\n",
        "server.close_connection(\"192.168.1.3\")"
      ]
    },
    {
      "cell_type": "code",
      "execution_count": 7,
      "metadata": {
        "trusted": true
      },
      "outputs": [
        {
          "data": {
            "text/plain": [
              "0"
            ]
          },
          "execution_count": 7,
          "metadata": {},
          "output_type": "execute_result"
        }
      ],
      "source": [
        "server.load()"
      ]
    },
    {
      "cell_type": "code",
      "execution_count": 8,
      "metadata": {
        "trusted": true
      },
      "outputs": [],
      "source": [
        "class LoadBalancing:\n",
        "    def __init__(self):\n",
        "        \"\"\"Initialize the load balancing system with one server\"\"\"\n",
        "        self.connections = {}\n",
        "        self.servers = [Server()]\n",
        "\n",
        "    def add_connection(self, connection_id):\n",
        "        \"\"\"Randomly selects a server and adds a connection to it.\"\"\"\n",
        "        server = self.ensure_availability()\n",
        "        # Add the connection to the dictionary with the selected server\n",
        "        self.connections[connection_id] = server\n",
        "        # Add the connection to the server\n",
        "        server.add_connection(connection_id)\n",
        "\n",
        "    def close_connection(self, connection_id):\n",
        "        \"\"\"Closes the connection on the the server corresponding to connection_id.\"\"\"\n",
        "        # Find out the right server\n",
        "        server = self.connections[connection_id]\n",
        "        # Close the connection on the server\n",
        "        server.close_connection(connection_id)\n",
        "        # Remove the connection from the load balancer\n",
        "        del self.connections[connection_id]\n",
        "\n",
        "    def avg_load(self):\n",
        "        \"\"\"Calculates the average load of all servers\"\"\"\n",
        "        # Sum the load of each server and divide by the amount of servers\n",
        "        total = 0\n",
        "        for server in self.servers:\n",
        "            total += server.load()\n",
        "        return total / len(self.servers)\n",
        "\n",
        "    def ensure_availability(self):\n",
        "        \"\"\"If the average load is higher than 50, spin up a new server\"\"\"\n",
        "        if self.avg_load() > 50:\n",
        "            server = Server()\n",
        "            self.servers.append(server)\n",
        "            return server\n",
        "        else:\n",
        "            return random.choice(self.servers)\n",
        "\n",
        "    def __str__(self):\n",
        "        \"\"\"Returns a string with the load for each server.\"\"\"\n",
        "        loads = [str(server) for server in self.servers]\n",
        "        return \"[{}]\".format(\",\".join(loads))"
      ]
    },
    {
      "cell_type": "code",
      "execution_count": 9,
      "metadata": {
        "trusted": true
      },
      "outputs": [
        {
          "name": "stdout",
          "output_type": "stream",
          "text": [
            "9.450845064989837\n"
          ]
        }
      ],
      "source": [
        "l = LoadBalancing()\n",
        "l.add_connection(\"fdca:83d2::f20d\")\n",
        "print(l.avg_load())"
      ]
    },
    {
      "cell_type": "code",
      "execution_count": 10,
      "metadata": {
        "trusted": true
      },
      "outputs": [
        {
          "name": "stdout",
          "output_type": "stream",
          "text": [
            "4.725422532494918\n"
          ]
        }
      ],
      "source": [
        "l.servers.append(Server())\n",
        "print(l.avg_load())"
      ]
    },
    {
      "cell_type": "code",
      "execution_count": 11,
      "metadata": {
        "trusted": true
      },
      "outputs": [
        {
          "name": "stdout",
          "output_type": "stream",
          "text": [
            "0.0\n"
          ]
        }
      ],
      "source": [
        "l.close_connection(\"fdca:83d2::f20d\")\n",
        "print(l.avg_load())"
      ]
    },
    {
      "cell_type": "code",
      "execution_count": 12,
      "metadata": {
        "trusted": true
      },
      "outputs": [
        {
          "name": "stdout",
          "output_type": "stream",
          "text": [
            "[142.78%,93.53%,73.35%,99.35%,33.20%,23.28%,13.20%,22.83%,33.12%,12.50%,6.58%]\n"
          ]
        }
      ],
      "source": [
        "for connection in range(100):\n",
        "    l.add_connection(connection)\n",
        "print(l)"
      ]
    },
    {
      "cell_type": "code",
      "execution_count": 13,
      "metadata": {
        "trusted": true
      },
      "outputs": [
        {
          "name": "stdout",
          "output_type": "stream",
          "text": [
            "50.337703108853596\n"
          ]
        }
      ],
      "source": [
        "print(l.avg_load())"
      ]
    }
  ],
  "metadata": {
    "kernelspec": {
      "display_name": "Python 3",
      "language": "python",
      "name": "python3"
    },
    "language_info": {
      "codemirror_mode": {
        "name": "ipython",
        "version": 3
      },
      "file_extension": ".py",
      "mimetype": "text/x-python",
      "name": "python",
      "nbconvert_exporter": "python",
      "pygments_lexer": "ipython3",
      "version": "3.11.3"
    }
  },
  "nbformat": 4,
  "nbformat_minor": 4
}
